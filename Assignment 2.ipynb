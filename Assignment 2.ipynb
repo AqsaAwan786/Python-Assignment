{
 "cells": [
  {
   "cell_type": "code",
   "execution_count": 4,
   "metadata": {},
   "outputs": [
    {
     "name": "stdout",
     "output_type": "stream",
     "text": [
      "Enter the Marks of Islamiat: 90\n",
      "Enter the Marks of Urdu: 98\n",
      "Enter the Marks of Mathematics: 89\n",
      "Enter the Marks iof Physics: 78\n",
      "Enter the Marks of Computer: 69\n",
      "You Scored  424  out of 700\n",
      "Percentage:  84.8\n",
      "Grade A+\n"
     ]
    }
   ],
   "source": [
    "\"\"\" Question 1 \"\"\"\n",
    "isl = int(input(\"Enter the Marks of Islamiat: \"))\n",
    "urd = int(input(\"Enter the Marks of Urdu: \"))\n",
    "math = int(input(\"Enter the Marks of Mathematics: \"))\n",
    "phy = int(input(\"Enter the Marks iof Physics: \"))\n",
    "comp = int(input(\"Enter the Marks of Computer: \"))\n",
    "t = isl+urd+math+phy+comp\n",
    "per = (t/500)*100\n",
    "print(\"You Scored \", t ,\" out of 700\")\n",
    "print(\"Percentage: \", per)\n",
    "if per>= 80:\n",
    "    print(\"Grade A+\")\n",
    "elif per>=70 and per < 80:\n",
    "    print(\"Grade: A\")\n",
    "elif per>= 60 and per < 70:\n",
    "    print(\"Grade: B\")\n",
    "elif per>= 50 and per < 60:\n",
    "    print(\"Grade: C\")\n",
    "else:\n",
    "    print(\"Fail\")"
   ]
  },
  {
   "cell_type": "code",
   "execution_count": 6,
   "metadata": {},
   "outputs": [
    {
     "name": "stdout",
     "output_type": "stream",
     "text": [
      "Enter the number then I will tell you that the number is even or odd! \n",
      "21\n",
      "The number you entered is Odd!\n"
     ]
    }
   ],
   "source": [
    "\"\"\" Question 2 \"\"\"\n",
    "num = int(input(\"Enter the number then I will tell you that the number is even or odd! \\n\"))\n",
    "if num%2==0:\n",
    "    print(\"The number you entered is Even!\")\n",
    "else:\n",
    "    print(\"The number you entered is Odd!\")"
   ]
  },
  {
   "cell_type": "code",
   "execution_count": 7,
   "metadata": {},
   "outputs": [
    {
     "name": "stdout",
     "output_type": "stream",
     "text": [
      "10\n"
     ]
    }
   ],
   "source": [
    "\"\"\" Question 3 \"\"\"\n",
    "x= [1,56,78,9,0,12,3,4,56,78]\n",
    "y = len(x)\n",
    "print(y)"
   ]
  },
  {
   "cell_type": "code",
   "execution_count": 10,
   "metadata": {},
   "outputs": [
    {
     "name": "stdout",
     "output_type": "stream",
     "text": [
      "1522\n"
     ]
    }
   ],
   "source": [
    "\"\"\" Question 4 \"\"\"\n",
    "x = [1,3,4,67,89,90,23,456,789]\n",
    "y = sum(x)\n",
    "print(y)\n",
    "\n"
   ]
  },
  {
   "cell_type": "code",
   "execution_count": null,
   "metadata": {},
   "outputs": [],
   "source": [
    "\"\"\" Question 5 \"\"\"\n",
    "x = [100,67,89,0,23,4,5,678,33,99,29]\n",
    "y = max(x)\n",
    "print(y)"
   ]
  },
  {
   "cell_type": "code",
   "execution_count": 11,
   "metadata": {},
   "outputs": [
    {
     "name": "stdout",
     "output_type": "stream",
     "text": [
      "1\n",
      "1\n",
      "2\n",
      "3\n"
     ]
    }
   ],
   "source": [
    "\"\"\" Question 6 \"\"\"\n",
    "a = [1,1,2,3,5,8,13,21,34,55,89]\n",
    "for i in a:\n",
    "    if i<5:\n",
    "        print(i)"
   ]
  },
  {
   "cell_type": "code",
   "execution_count": null,
   "metadata": {},
   "outputs": [],
   "source": []
  }
 ],
 "metadata": {
  "kernelspec": {
   "display_name": "Python 3",
   "language": "python",
   "name": "python3"
  },
  "language_info": {
   "codemirror_mode": {
    "name": "ipython",
    "version": 3
   },
   "file_extension": ".py",
   "mimetype": "text/x-python",
   "name": "python",
   "nbconvert_exporter": "python",
   "pygments_lexer": "ipython3",
   "version": "3.7.3"
  }
 },
 "nbformat": 4,
 "nbformat_minor": 2
}
