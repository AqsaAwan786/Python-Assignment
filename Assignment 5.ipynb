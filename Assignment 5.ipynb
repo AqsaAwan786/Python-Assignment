{
 "cells": [
  {
   "cell_type": "code",
   "execution_count": 18,
   "metadata": {},
   "outputs": [
    {
     "name": "stdout",
     "output_type": "stream",
     "text": [
      "Enter any number: 7\n",
      "Fectorial:  5040\n"
     ]
    }
   ],
   "source": [
    "\"\"\" Question : 1 \"\"\"\n",
    "def fectorial(fec):\n",
    "    if fec < 0:\n",
    "        print(\"Enter any number that is greater than 0.\")\n",
    "        \n",
    "    elif fec == 0:\n",
    "        print(\"The fectorial of 0 is 1\")\n",
    "    else:\n",
    "        for i in range(1 , fec):\n",
    "            fec = fec*i\n",
    "        print(\"Fectorial: \" ,fec)   \n",
    "        \n",
    "fec = int(input(\"Enter any number: \"))\n",
    "fectorial(fec)\n",
    "\n"
   ]
  },
  {
   "cell_type": "code",
   "execution_count": 21,
   "metadata": {},
   "outputs": [
    {
     "name": "stdout",
     "output_type": "stream",
     "text": [
      "Enter string:PakisTAn\n",
      "The number of lowercase characters is:\n",
      "5\n",
      "The number of uppercase characters is:\n",
      "3\n"
     ]
    }
   ],
   "source": [
    "\"\"\" Question : 2 \"\"\"\n",
    "string = input(\"Enter string:\")\n",
    "count1=0\n",
    "count2=0\n",
    "for i in string:\n",
    "      if(i.islower()):\n",
    "            count1=count1+1\n",
    "      elif(i.isupper()):\n",
    "            count2=count2+1\n",
    "print(\"The number of lowercase characters is:\")\n",
    "print(count1)\n",
    "print(\"The number of uppercase characters is:\")\n",
    "print(count2)\n"
   ]
  },
  {
   "cell_type": "code",
   "execution_count": 23,
   "metadata": {},
   "outputs": [
    {
     "name": "stdout",
     "output_type": "stream",
     "text": [
      "4\n",
      "90\n",
      "34\n",
      "6\n",
      "566\n",
      "44\n",
      "22\n",
      "56\n",
      "78\n",
      "42\n"
     ]
    }
   ],
   "source": [
    "\"\"\" Question : 3 \"\"\"\n",
    "def evenlist():\n",
    "    numlist = [1,3,4,67,89,90,34,25,6,7,33,566,44,33,22,56,78,9,87,42,679]\n",
    "    for i in numlist:\n",
    "        if i%2==0:\n",
    "            print(i)\n",
    "evenlist()\n"
   ]
  },
  {
   "cell_type": "code",
   "execution_count": 26,
   "metadata": {},
   "outputs": [
    {
     "name": "stdout",
     "output_type": "stream",
     "text": [
      "Enter any string \n",
      "madam\n",
      "The string is a palindrome.\n"
     ]
    }
   ],
   "source": [
    "\"\"\" Question : 4 \"\"\"\n",
    "def ispalindrome():\n",
    "    my_str = input(\"Enter any string \\n\")\n",
    "\n",
    "    my_str = my_str.casefold()\n",
    "\n",
    "    rev_str = reversed(my_str)\n",
    "    if list(my_str) == list(rev_str):\n",
    "        print(\"The string is a palindrome.\")\n",
    "    else:\n",
    "        print(\"The string is not a palindrome.\")\n",
    "ispalindrome()\n"
   ]
  },
  {
   "cell_type": "code",
   "execution_count": 27,
   "metadata": {},
   "outputs": [
    {
     "name": "stdout",
     "output_type": "stream",
     "text": [
      "Enter any number: 7\n",
      "7 is a prime number!\n"
     ]
    }
   ],
   "source": [
    "\"\"\" Question : 5 \"\"\"\n",
    "def isPrime(num):\n",
    "    if num >1:\n",
    "        for i in range(2, num//2):\n",
    "            if num%i == 0:\n",
    "                print(num , \"is not a prime number!\")\n",
    "                break\n",
    "            else:\n",
    "                print(num , \"is a prime number!\")\n",
    "num = int(input(\"Enter any number: \"))\n",
    "isPrime(num)\n",
    "                \n"
   ]
  },
  {
   "cell_type": "code",
   "execution_count": null,
   "metadata": {},
   "outputs": [],
   "source": [
    "\"\"\" Question : 6 \"\"\"\n",
    "while True:  \n",
    "    try: \n",
    "        bg = float(input(\"Enter your budget : \")) \n",
    "        s = bg  \n",
    "    except ValueError: \n",
    "        print(\"PRINT NUMBER AS A AMOUNT\") \n",
    "        continue\n",
    "    else: \n",
    "        break\n",
    "a ={\"name\":[], \"quant\":[], \"price\":[]} \n",
    "  \n",
    "b = list(a.values()) \n",
    "  \n",
    "na = b[0] \n",
    "  \n",
    "qu = b[1] \n",
    "  \n",
    "pr = b[2] \n",
    "  \n",
    "while True: \n",
    "    try: \n",
    "        ch = int(input(\"1.ADD\\n2.EXIT\\nEnter your choice : \")) \n",
    "    except ValueError: \n",
    "        print(\"\\nERROR: Choose only digits from the given option\") \n",
    "        continue\n",
    "    else: \n",
    "        if ch == 1 and s>0:        \n",
    "   \n",
    "            pn = input(\"Enter product name : \")  \n",
    "            q = input(\"Enter quantity : \") \n",
    "            p = float(input(\"Enter price of the product : \"))   \n",
    "  \n",
    "            if p>s: \n",
    "                print(\"\\nCAN, T BUT THE PRODUCT\")  \n",
    "                continue\n",
    "  \n",
    "            else: \n",
    "                if pn in na:   \n",
    "                    ind = na.index(pn)   \n",
    "  \n",
    "                    qu.remove(qu[ind])  \n",
    "  \n",
    "                    pr.remove(pr[ind])   \n",
    "  \n",
    "                    qu.insert(ind, q)    \n",
    "  \n",
    "                    pr.insert(ind, p)    \n",
    "  \n",
    "                    \n",
    "                    s = bg-sum(pr)    \n",
    "  \n",
    "                    print(\"\\namount left\", s) \n",
    "                else: \n",
    "                    na.append(pn)   \n",
    "                    qu.append(q)    \n",
    "  \n",
    "                    pr.append(p)     \n",
    "  \n",
    "                    s = bg-sum(pr)    \n",
    "  \n",
    "                    print(\"\\namount left\", s) \n",
    "  \n",
    "        elif s<= 0:  \n",
    "            print(\"\\nNO BUDGET\")  \n",
    "        else: \n",
    "            break \n",
    "print(\"\\nAmount left : Rs.\", s)  \n",
    "  \n",
    "if s in pr:  \n",
    "    print(\"\\nAmount left can buy you a\", na[pr.index(s)])   \n",
    "print(\"\\n\\n\\nGROCERY LIST\") \n",
    "  \n",
    "for i in range(len(na)):  \n",
    "    print(na[i], qu[i], pr[i]) \n",
    "\n"
   ]
  },
  {
   "cell_type": "code",
   "execution_count": null,
   "metadata": {},
   "outputs": [],
   "source": []
  },
  {
   "cell_type": "code",
   "execution_count": null,
   "metadata": {},
   "outputs": [],
   "source": []
  }
 ],
 "metadata": {
  "kernelspec": {
   "display_name": "Python 3",
   "language": "python",
   "name": "python3"
  },
  "language_info": {
   "codemirror_mode": {
    "name": "ipython",
    "version": 3
   },
   "file_extension": ".py",
   "mimetype": "text/x-python",
   "name": "python",
   "nbconvert_exporter": "python",
   "pygments_lexer": "ipython3",
   "version": "3.7.3"
  }
 },
 "nbformat": 4,
 "nbformat_minor": 2
}
