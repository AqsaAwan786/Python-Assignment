{
 "cells": [
  {
   "cell_type": "code",
   "execution_count": 1,
   "metadata": {},
   "outputs": [
    {
     "name": "stdout",
     "output_type": "stream",
     "text": [
      " For addition + \n",
      " For Subtraction - \n",
      " For Division \\ \n",
      " For Multiplication * \n",
      " For Power **\n",
      "Enter First value 2\n",
      "Enter the Operator **\n",
      "Enter Second value 8\n",
      "256\n"
     ]
    }
   ],
   "source": [
    "\"Question: 1\"\n",
    "print(\" For addition + \\n For Subtraction - \\n For Division \\ \\n For Multiplication * \\n For Power **\")\n",
    "num1 = int(input(\"Enter First value \"))\n",
    "op = (input(\"Enter the Operator \"))\n",
    "num2 = int(input(\"Enter Second value \"))\n",
    "if op == \"+\":\n",
    "    sum = num1 + num2\n",
    "    print(sum)\n",
    "elif op == \"-\":\n",
    "    sub = num1 - num2\n",
    "    print(sub)\n",
    "elif op == \"/\":\n",
    "    div = num1 / num2\n",
    "    print(div)\n",
    "elif op == \"*\":\n",
    "    mul = num1 * num2\n",
    "    print(mul)\n",
    "if op == \"**\":\n",
    "    pow = num1 ** num2\n",
    "    print(pow)"
   ]
  },
  {
   "cell_type": "code",
   "execution_count": 3,
   "metadata": {},
   "outputs": [
    {
     "name": "stdout",
     "output_type": "stream",
     "text": [
      "3\n",
      "89\n",
      "345\n"
     ]
    }
   ],
   "source": [
    "\"Question: 2\"\n",
    "x = [\"Pakistan\", \"Islamabad\", \"Karachi\", 3,89,345]\n",
    "for i in x:\n",
    "    if type(i) == int:\n",
    "        print(i)"
   ]
  },
  {
   "cell_type": "code",
   "execution_count": 8,
   "metadata": {},
   "outputs": [
    {
     "name": "stdout",
     "output_type": "stream",
     "text": [
      "{1: 'Pakistan', 2: 'Karachi', 3: 'Islamabad'}\n",
      "{1: 'Pakistan', 2: 'Karachi', 3: 'Islamabad', 4: 'Quetta', 5: 678}\n"
     ]
    }
   ],
   "source": [
    "\"Question: 3\"\n",
    "dic = {1: \"Pakistan\", 2: \"Karachi\", 3: \"Islamabad\"}\n",
    "print(dic)\n",
    "dic.update({4: \"Quetta\", 5: 678})\n",
    "print(dic)"
   ]
  },
  {
   "cell_type": "code",
   "execution_count": 20,
   "metadata": {},
   "outputs": [
    {
     "name": "stdout",
     "output_type": "stream",
     "text": [
      "2195\n"
     ]
    }
   ],
   "source": [
    "\"Question: 4\"\n",
    "dic = {1: \"Pakistan\", 2: \"Karachi\", 3: 23, 4: 56, 5: \"Pishawar\", 6: 908, 7: -367, 8: \"Quetta\", 9: 789, 10: 786}\n",
    "y = 0\n",
    "for i in dic.values():\n",
    "    if type(i) == int:\n",
    "        y = y+i\n",
    "        \n",
    "print(y)\n",
    "    "
   ]
  },
  {
   "cell_type": "code",
   "execution_count": 23,
   "metadata": {},
   "outputs": [
    {
     "name": "stdout",
     "output_type": "stream",
     "text": [
      "[23, 45, 67, 90, -1, -9]\n"
     ]
    }
   ],
   "source": [
    "\"Question: 5\"\n",
    "def Repeat(x): \n",
    "    size = len(x) \n",
    "    repeated = [] \n",
    "    for i in range(size): \n",
    "        k = i + 1\n",
    "        for j in range(k, size): \n",
    "            if x[i] == x[j] and x[i] not in repeated: \n",
    "                repeated.append(x[i]) \n",
    "    return repeated \n",
    "lst = [23,45,67,1,23,34,45,67,89,90,670,90,600,-1,-9,-45,-1,-9]\n",
    "print(Repeat(lst))"
   ]
  },
  {
   "cell_type": "code",
   "execution_count": 30,
   "metadata": {},
   "outputs": [
    {
     "name": "stdout",
     "output_type": "stream",
     "text": [
      "Present value = 200\n",
      "Not present\n"
     ]
    }
   ],
   "source": [
    "\"Question: 6\" \n",
    "def checkKey(dict, key): \n",
    "      \n",
    "    if key in dict.keys(): \n",
    "         print(\"Present value =\", dict[key]) \n",
    "    else: \n",
    "        print(\"Not present\") \n",
    "  \n",
    "\n",
    "dict = {'a': 100, 'b':200, 'c':300} \n",
    "  \n",
    "key = 'b'\n",
    "checkKey(dict, key) \n",
    "  \n",
    "key = 'w'\n",
    "checkKey(dict, key) "
   ]
  },
  {
   "cell_type": "code",
   "execution_count": null,
   "metadata": {},
   "outputs": [],
   "source": []
  }
 ],
 "metadata": {
  "kernelspec": {
   "display_name": "Python 3",
   "language": "python",
   "name": "python3"
  },
  "language_info": {
   "codemirror_mode": {
    "name": "ipython",
    "version": 3
   },
   "file_extension": ".py",
   "mimetype": "text/x-python",
   "name": "python",
   "nbconvert_exporter": "python",
   "pygments_lexer": "ipython3",
   "version": "3.7.3"
  }
 },
 "nbformat": 4,
 "nbformat_minor": 2
}
