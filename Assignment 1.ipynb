{
 "cells": [
  {
   "cell_type": "code",
   "execution_count": 10,
   "metadata": {},
   "outputs": [
    {
     "name": "stdout",
     "output_type": "stream",
     "text": [
      "Twinkle, twinkle little star, \n",
      "     How I wonder what you are! \n",
      "         Up above the world so high, \n",
      "         like a Diamond in the sky. \n",
      " Twinkle, twinkle little star, \n",
      "     How I wonder what you are\n"
     ]
    }
   ],
   "source": [
    "# Question: 1\n",
    "print(\"Twinkle, twinkle little star, \\n     How I wonder what you are! \\n         Up above the world so high, \\n         like a Diamond in the sky. \\n Twinkle, twinkle little star, \\n     How I wonder what you are\")"
   ]
  },
  {
   "cell_type": "code",
   "execution_count": 5,
   "metadata": {},
   "outputs": [
    {
     "name": "stdout",
     "output_type": "stream",
     "text": [
      "Version of Python\n",
      "3.7.3 (default, Apr 24 2019, 15:29:51) [MSC v.1915 64 bit (AMD64)]\n"
     ]
    }
   ],
   "source": [
    "# Question: 2\n",
    "import sys\n",
    "print(\"Version of Python\")\n",
    "print(sys.version)"
   ]
  },
  {
   "cell_type": "code",
   "execution_count": 9,
   "metadata": {},
   "outputs": [
    {
     "name": "stdout",
     "output_type": "stream",
     "text": [
      "The current date and time:  2019-11-04 23:10:56.490603\n"
     ]
    }
   ],
   "source": [
    "#Question: 3\n",
    "import datetime\n",
    "x = datetime.datetime.now()\n",
    "print(\"The current date and time: \", x)"
   ]
  },
  {
   "cell_type": "code",
   "execution_count": 11,
   "metadata": {},
   "outputs": [
    {
     "name": "stdout",
     "output_type": "stream",
     "text": [
      "**** Area of Circle ****\n",
      "Enter the value of radius2\n",
      "The area of circle is :  12.571428571428571\n"
     ]
    }
   ],
   "source": [
    "# Question: 4\n",
    "print(\"**** Area of Circle ****\")\n",
    "r = float(input(\"Enter the value of radius \"))\n",
    "a = (22/7)* r**2\n",
    "print(\"The area of circle is : \", a)"
   ]
  },
  {
   "cell_type": "code",
   "execution_count": 12,
   "metadata": {},
   "outputs": [
    {
     "name": "stdout",
     "output_type": "stream",
     "text": [
      "Enter your First Name: Aqsa\n",
      "Enter your Last Name: Awan\n",
      "Awan Aqsa\n"
     ]
    }
   ],
   "source": [
    "# Question: 5\n",
    "First = input(\"Enter your First Name: \")\n",
    "last = input(\"Enter your Last Name: \")\n",
    "print(last + \" \" + First)"
   ]
  },
  {
   "cell_type": "code",
   "execution_count": 16,
   "metadata": {},
   "outputs": [
    {
     "name": "stdout",
     "output_type": "stream",
     "text": [
      "Enter First Number: 22\n",
      "Enter Second Name: 22\n",
      "The addition is:  44\n"
     ]
    }
   ],
   "source": [
    "# Question: 6\n",
    "a = int(input(\"Enter First Number: \"))\n",
    "b = int(input(\"Enter Second Name: \"))\n",
    "c = a + b\n",
    "print(\"The addition is: \", c)"
   ]
  },
  {
   "cell_type": "code",
   "execution_count": null,
   "metadata": {},
   "outputs": [],
   "source": []
  }
 ],
 "metadata": {
  "kernelspec": {
   "display_name": "Python 3",
   "language": "python",
   "name": "python3"
  },
  "language_info": {
   "codemirror_mode": {
    "name": "ipython",
    "version": 3
   },
   "file_extension": ".py",
   "mimetype": "text/x-python",
   "name": "python",
   "nbconvert_exporter": "python",
   "pygments_lexer": "ipython3",
   "version": "3.7.3"
  }
 },
 "nbformat": 4,
 "nbformat_minor": 2
}
