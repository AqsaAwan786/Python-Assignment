{
 "cells": [
  {
   "cell_type": "code",
   "execution_count": 9,
   "metadata": {},
   "outputs": [
    {
     "name": "stdout",
     "output_type": "stream",
     "text": [
      "{'first_name': 'Hooriya', 'last-name': 'Aslam', 'age': 25, 'city': 'Karachi', 'Qualification': 'Graduation'}\n",
      "{'first_name': 'Hooriya', 'last-name': 'Aslam', 'age': 25, 'city': 'Karachi'}\n"
     ]
    }
   ],
   "source": [
    "\"\"\" Question: 1 \"\"\"\n",
    "person = {\n",
    "    \"first_name\" : \"Hooriya\",\n",
    "     \"last-name\": \"Aslam\",\n",
    "    \"age\" : 25,\n",
    "    \"city\" : \"Karachi\"\n",
    "    \n",
    "}\n",
    "person[\"Qualification\"] = \"Graduation\"\n",
    "print(person)\n",
    "del person[\"Qualification\"]\n",
    "print(person)"
   ]
  },
  {
   "cell_type": "code",
   "execution_count": 57,
   "metadata": {},
   "outputs": [
    {
     "name": "stdout",
     "output_type": "stream",
     "text": [
      "{'Karachi': 1, 'Country': 'Pakistan', 'Population': 15400000, 'Fact': 'It is the city of light!'}\n",
      "{'Muree': 2, 'Country': 'Pakistan', 'Population': 176426, 'Fact': 'Muree is also called Malika-e-Kohsar'}\n",
      "{'Madrid': 3, 'Country': 'Spain', 'Population': '6.5 Million', 'Fact': 'Madrid is one of the four richest cities in Europe.'}\n"
     ]
    }
   ],
   "source": [
    "\"\"\" Question: 2 \"\"\"\n",
    "cities = [\n",
    "    {\n",
    "        \"Karachi\": 1,\n",
    "    \"Country\": \"Pakistan\",\n",
    "    \"Population\": 15400000 ,\n",
    "    \"Fact\": \"It is the city of light!\"\n",
    "    },\n",
    "    {\n",
    "        \"Muree\": 2,\n",
    "    \"Country\": \"Pakistan\",\n",
    "    \"Population\": 176426 ,\n",
    "    \"Fact\": \"Muree is also called Malika-e-Kohsar\"\n",
    "    },\n",
    "    {\n",
    "        \"Madrid\": 3,\n",
    "    \"Country\": \"Spain\",\n",
    "    \"Population\": \"6.5 Million\" ,\n",
    "    \"Fact\": \"Madrid is one of the four richest cities in Europe.\" \n",
    "    }\n",
    "  \n",
    "]\n",
    "for item in cities:\n",
    "    print(item)\n"
   ]
  },
  {
   "cell_type": "code",
   "execution_count": null,
   "metadata": {},
   "outputs": [],
   "source": [
    "\"\"\" Question: 3 \"\"\"\n",
    "name = input(\"Enter your name! \\n\")\n",
    "print(\"Welcome \" + name)\n",
    "print(\"\")\n",
    "print(\"Age           Cahrges\" )\n",
    "print(\"---------------------\")\n",
    "print(\"Below 3   |   No Charges\")\n",
    "print(\"3 - 12    |   10$\")\n",
    "print(\" >12      |   15$\")\n",
    "\n",
    "age = int(input(\"Enter your age! \\n\"))\n",
    "for i in range(1,100):\n",
    "    if (age<3):\n",
    "        print(\"No Charges!\")\n",
    "    elif(age>3 and age <13):\n",
    "        print(\"Ticket 10$\")\n",
    "    else:\n",
    "        print(\"Ticket is 15$\")\n",
    "    break;\n",
    "    \n",
    "\n"
   ]
  },
  {
   "cell_type": "code",
   "execution_count": null,
   "metadata": {},
   "outputs": [],
   "source": [
    "\"\"\" Question: 4 \"\"\"\n",
    "def favorite_book(title):\n",
    "    print(\"One of my favorite book is Alice in Wonderland! and the title of book is \" + title)\n",
    "    \n",
    "favorite_book(title = \"World tour in 40 days\")\n",
    "    "
   ]
  },
  {
   "cell_type": "code",
   "execution_count": null,
   "metadata": {},
   "outputs": [],
   "source": [
    "\"\"\" Question: 5 \"\"\"\n",
    "import random\n",
    "ch = random.randint(1,30)\n",
    "print(\"Type the number if the number will match with the number that computer will generate you will win otherwise you will be lost\")\n",
    "for i in range(0,3):\n",
    "      guess = int(input(\"Enter the number \\n\"))\n",
    "      if(ch<20):\n",
    "            print(\"The number is less than 20\")\n",
    "      elif(ch<10):\n",
    "            print(\"The number is less than 10\")      \n",
    "      elif(ch<30):\n",
    "            print(\"The number is less than 30\")\n",
    "      elif(ch>20):\n",
    "            print(\"The number is greater than 20\")\n",
    "      elif(ch>10):\n",
    "            print(\"The number is greater than 10\")       \n",
    "      elif(ch>30):\n",
    "            print(\"The number is greater than 30\")\n",
    " \n",
    "print(\"The number is \" , ch)\n",
    "\n",
    "\n",
    "\n",
    "      \n",
    "    \n"
   ]
  },
  {
   "cell_type": "code",
   "execution_count": null,
   "metadata": {},
   "outputs": [],
   "source": []
  },
  {
   "cell_type": "code",
   "execution_count": null,
   "metadata": {},
   "outputs": [],
   "source": []
  },
  {
   "cell_type": "code",
   "execution_count": null,
   "metadata": {},
   "outputs": [],
   "source": []
  }
 ],
 "metadata": {
  "kernelspec": {
   "display_name": "Python 3",
   "language": "python",
   "name": "python3"
  },
  "language_info": {
   "codemirror_mode": {
    "name": "ipython",
    "version": 3
   },
   "file_extension": ".py",
   "mimetype": "text/x-python",
   "name": "python",
   "nbconvert_exporter": "python",
   "pygments_lexer": "ipython3",
   "version": "3.7.3"
  }
 },
 "nbformat": 4,
 "nbformat_minor": 2
}
